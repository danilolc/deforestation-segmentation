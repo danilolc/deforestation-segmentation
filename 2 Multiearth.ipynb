{
 "cells": [
  {
   "cell_type": "code",
   "execution_count": 1,
   "id": "04982d45",
   "metadata": {},
   "outputs": [],
   "source": [
    "# Resize the training images to 85x85\n",
    "\n",
    "from tqdm import tqdm\n",
    "import numpy as np\n",
    "import os\n",
    "\n",
    "from PIL import Image"
   ]
  },
  {
   "cell_type": "code",
   "execution_count": 2,
   "id": "edf9bf75",
   "metadata": {},
   "outputs": [
    {
     "data": {
      "text/plain": [
       "17215"
      ]
     },
     "execution_count": 2,
     "metadata": {},
     "output_type": "execute_result"
    }
   ],
   "source": [
    "path = \"datasets/\"\n",
    "src = path + \"deforestation_train/train/\"\n",
    "dst = path + \"deforestation_train_resized/train/\"\n",
    "\n",
    "if not os.path.exists(dst):\n",
    "    os.makedirs(dst)\n",
    "\n",
    "images = os.listdir(src)\n",
    "len(images)"
   ]
  },
  {
   "cell_type": "code",
   "execution_count": 3,
   "id": "0092e467",
   "metadata": {},
   "outputs": [
    {
     "name": "stderr",
     "output_type": "stream",
     "text": [
      "100%|██████████| 17215/17215 [00:12<00:00, 1400.36it/s]\n"
     ]
    }
   ],
   "source": [
    "for i in tqdm(images):\n",
    "    im = Image.open(src + i)\n",
    "    \n",
    "    d = np.array(im, dtype=float) * 256\n",
    "    d.clip(0, 256)\n",
    "\n",
    "    im = Image.fromarray(d).convert('L')\n",
    "    im.thumbnail((85, 85))\n",
    "    \n",
    "    im.save(dst + i)"
   ]
  },
  {
   "cell_type": "code",
   "execution_count": 5,
   "id": "b2bc5cdb",
   "metadata": {},
   "outputs": [
    {
     "data": {
      "image/jpeg": "[encoded data removed]",
      "image/png": "[encoded data removed]",
      "text/plain": [
       "<PIL.TiffImagePlugin.TiffImageFile image mode=L size=85x85>"
      ]
     },
     "execution_count": 5,
     "metadata": {},
     "output_type": "execute_result"
    }
   ],
   "source": [
    "Image.open(dst + images[75])"
   ]
  }
 ],
 "metadata": {
  "kernelspec": {
   "display_name": "Python 3 (ipykernel)",
   "language": "python",
   "name": "python3"
  },
  "language_info": {
   "codemirror_mode": {
    "name": "ipython",
    "version": 3
   },
   "file_extension": ".py",
   "mimetype": "text/x-python",
   "name": "python",
   "nbconvert_exporter": "python",
   "pygments_lexer": "ipython3",
   "version": "3.12.1"
  }
 },
 "nbformat": 4,
 "nbformat_minor": 5
}
