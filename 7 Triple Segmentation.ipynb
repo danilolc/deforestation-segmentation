{
 "cells": [
  {
   "cell_type": "code",
   "execution_count": 1,
   "metadata": {},
   "outputs": [
    {
     "data": {
      "text/html": [
       "<div>\n",
       "<style scoped>\n",
       "    .dataframe tbody tr th:only-of-type {\n",
       "        vertical-align: middle;\n",
       "    }\n",
       "\n",
       "    .dataframe tbody tr th {\n",
       "        vertical-align: top;\n",
       "    }\n",
       "\n",
       "    .dataframe thead th {\n",
       "        text-align: right;\n",
       "    }\n",
       "</style>\n",
       "<table border=\"1\" class=\"dataframe\">\n",
       "  <thead>\n",
       "    <tr style=\"text-align: right;\">\n",
       "      <th></th>\n",
       "      <th>lat</th>\n",
       "      <th>lon</th>\n",
       "      <th>year</th>\n",
       "      <th>month</th>\n",
       "      <th>day</th>\n",
       "      <th>mean</th>\n",
       "      <th>filename</th>\n",
       "    </tr>\n",
       "  </thead>\n",
       "  <tbody>\n",
       "    <tr>\n",
       "      <th>353</th>\n",
       "      <td>-3.35</td>\n",
       "      <td>-54.62</td>\n",
       "      <td>2017</td>\n",
       "      <td>7</td>\n",
       "      <td>1</td>\n",
       "      <td>0.25</td>\n",
       "      <td>Labeled_-3.35_-54.62_2017_07_01_0.25.npy</td>\n",
       "    </tr>\n",
       "    <tr>\n",
       "      <th>354</th>\n",
       "      <td>-3.35</td>\n",
       "      <td>-54.62</td>\n",
       "      <td>2017</td>\n",
       "      <td>8</td>\n",
       "      <td>1</td>\n",
       "      <td>0.33</td>\n",
       "      <td>Labeled_-3.35_-54.62_2017_08_01_0.33.npy</td>\n",
       "    </tr>\n",
       "    <tr>\n",
       "      <th>355</th>\n",
       "      <td>-3.35</td>\n",
       "      <td>-54.62</td>\n",
       "      <td>2018</td>\n",
       "      <td>6</td>\n",
       "      <td>1</td>\n",
       "      <td>0.31</td>\n",
       "      <td>Labeled_-3.35_-54.62_2018_06_01_0.31.npy</td>\n",
       "    </tr>\n",
       "    <tr>\n",
       "      <th>356</th>\n",
       "      <td>-3.35</td>\n",
       "      <td>-54.62</td>\n",
       "      <td>2018</td>\n",
       "      <td>8</td>\n",
       "      <td>1</td>\n",
       "      <td>0.35</td>\n",
       "      <td>Labeled_-3.35_-54.62_2018_08_01_0.35.npy</td>\n",
       "    </tr>\n",
       "    <tr>\n",
       "      <th>357</th>\n",
       "      <td>-3.35</td>\n",
       "      <td>-54.62</td>\n",
       "      <td>2019</td>\n",
       "      <td>7</td>\n",
       "      <td>1</td>\n",
       "      <td>0.37</td>\n",
       "      <td>Labeled_-3.35_-54.62_2019_07_01_0.37.npy</td>\n",
       "    </tr>\n",
       "  </tbody>\n",
       "</table>\n",
       "</div>"
      ],
      "text/plain": [
       "      lat    lon  year  month  day  mean  \\\n",
       "353 -3.35 -54.62  2017      7    1  0.25   \n",
       "354 -3.35 -54.62  2017      8    1  0.33   \n",
       "355 -3.35 -54.62  2018      6    1  0.31   \n",
       "356 -3.35 -54.62  2018      8    1  0.35   \n",
       "357 -3.35 -54.62  2019      7    1  0.37   \n",
       "\n",
       "                                     filename  \n",
       "353  Labeled_-3.35_-54.62_2017_07_01_0.25.npy  \n",
       "354  Labeled_-3.35_-54.62_2017_08_01_0.33.npy  \n",
       "355  Labeled_-3.35_-54.62_2018_06_01_0.31.npy  \n",
       "356  Labeled_-3.35_-54.62_2018_08_01_0.35.npy  \n",
       "357  Labeled_-3.35_-54.62_2019_07_01_0.37.npy  "
      ]
     },
     "execution_count": 1,
     "metadata": {},
     "output_type": "execute_result"
    }
   ],
   "source": [
    "import matplotlib.pyplot as plt\n",
    "import pandas as pd\n",
    "import torch\n",
    "import wandb\n",
    "import h5py\n",
    "\n",
    "import numpy as np\n",
    "\n",
    "from torch.utils.data import DataLoader, Dataset\n",
    "from torchvision import transforms\n",
    "from tqdm import tqdm\n",
    "\n",
    "import torch.nn as nn\n",
    "\n",
    "from Data import ChannelJitter, RandomNoise, get_values\n",
    "from Network import ASPP, ConvolutionBlock, Unet, ssim_loss\n",
    "\n",
    "path = \"datasets/\" + \"with_labels.hdf5\"\n",
    "device = \"cuda\"\n",
    "\n",
    "IM = torch.tensor([ 0.0,  0.0,  0.1,  0.0,  0.3,  0.1,  0.0,  0.5,\n",
    "                    0.0,  0.0,  0.1,  0.0,  0.3,  0.1,  0.0,  0.5,\n",
    "                    0.0,  0.0,  0.1,  0.0,  0.3,  0.1,  0.0,  0.5, 0.0]).to(device)\n",
    "\n",
    "IS = torch.tensor([0.2, 0.2, 0.2, 0.2, 0.1, 0.1, 0.1, 0.5,\n",
    "                   0.2, 0.2, 0.2, 0.2, 0.1, 0.1, 0.1, 0.5,\n",
    "                   0.2, 0.2, 0.2, 0.2, 0.1, 0.1, 0.1, 0.5, 1.0]).to(device)\n",
    "\n",
    "\n",
    "val_transform = transforms.Compose([\n",
    "    transforms.RandomCrop((64, 64)),\n",
    "    transforms.Normalize(IM, IS),\n",
    "])\n",
    "\n",
    "train_transform = transforms.Compose([\n",
    "    transforms.RandomApply([transforms.RandomRotation(360, interpolation=transforms.InterpolationMode.BILINEAR)], p=0.5),\n",
    "    \n",
    "    transforms.RandomCrop((64, 64)),\n",
    "    transforms.Normalize(IM, IS),\n",
    "    \n",
    "    transforms.RandomApply([ChannelJitter(0.2, 0.2)], p=0.2),\n",
    "    transforms.RandomApply([RandomNoise(0.2)], p=0.2),\n",
    "])\n",
    "\n",
    "with h5py.File(path, 'r') as f:\n",
    "    images = list(f.keys())\n",
    "\n",
    "images = [get_values(image) for image in images]\n",
    "df = pd.DataFrame(images)\n",
    "\n",
    "df_z = df[df[\"mean\"] < 0.2].sample(frac=0.1, random_state=0)\n",
    "df = pd.concat([df[df[\"mean\"] >= 0.2], df_z])\n",
    "\n",
    "df.head()"
   ]
  },
  {
   "cell_type": "code",
   "execution_count": 2,
   "metadata": {},
   "outputs": [
    {
     "data": {
      "text/html": [
       "<div>\n",
       "<style scoped>\n",
       "    .dataframe tbody tr th:only-of-type {\n",
       "        vertical-align: middle;\n",
       "    }\n",
       "\n",
       "    .dataframe tbody tr th {\n",
       "        vertical-align: top;\n",
       "    }\n",
       "\n",
       "    .dataframe thead th {\n",
       "        text-align: right;\n",
       "    }\n",
       "</style>\n",
       "<table border=\"1\" class=\"dataframe\">\n",
       "  <thead>\n",
       "    <tr style=\"text-align: right;\">\n",
       "      <th></th>\n",
       "      <th>lat</th>\n",
       "      <th>lon</th>\n",
       "    </tr>\n",
       "  </thead>\n",
       "  <tbody>\n",
       "    <tr>\n",
       "      <th>206</th>\n",
       "      <td>-3.33</td>\n",
       "      <td>-55.02</td>\n",
       "    </tr>\n",
       "    <tr>\n",
       "      <th>393</th>\n",
       "      <td>-3.35</td>\n",
       "      <td>-54.68</td>\n",
       "    </tr>\n",
       "    <tr>\n",
       "      <th>407</th>\n",
       "      <td>-3.35</td>\n",
       "      <td>-54.72</td>\n",
       "    </tr>\n",
       "    <tr>\n",
       "      <th>418</th>\n",
       "      <td>-3.35</td>\n",
       "      <td>-54.74</td>\n",
       "    </tr>\n",
       "    <tr>\n",
       "      <th>451</th>\n",
       "      <td>-3.35</td>\n",
       "      <td>-54.90</td>\n",
       "    </tr>\n",
       "    <tr>\n",
       "      <th>...</th>\n",
       "      <td>...</td>\n",
       "      <td>...</td>\n",
       "    </tr>\n",
       "    <tr>\n",
       "      <th>16799</th>\n",
       "      <td>-4.37</td>\n",
       "      <td>-55.04</td>\n",
       "    </tr>\n",
       "    <tr>\n",
       "      <th>16938</th>\n",
       "      <td>-4.39</td>\n",
       "      <td>-54.60</td>\n",
       "    </tr>\n",
       "    <tr>\n",
       "      <th>16971</th>\n",
       "      <td>-4.39</td>\n",
       "      <td>-54.66</td>\n",
       "    </tr>\n",
       "    <tr>\n",
       "      <th>17061</th>\n",
       "      <td>-4.39</td>\n",
       "      <td>-54.94</td>\n",
       "    </tr>\n",
       "    <tr>\n",
       "      <th>17162</th>\n",
       "      <td>-4.39</td>\n",
       "      <td>-55.12</td>\n",
       "    </tr>\n",
       "  </tbody>\n",
       "</table>\n",
       "<p>257 rows × 2 columns</p>\n",
       "</div>"
      ],
      "text/plain": [
       "        lat    lon\n",
       "206   -3.33 -55.02\n",
       "393   -3.35 -54.68\n",
       "407   -3.35 -54.72\n",
       "418   -3.35 -54.74\n",
       "451   -3.35 -54.90\n",
       "...     ...    ...\n",
       "16799 -4.37 -55.04\n",
       "16938 -4.39 -54.60\n",
       "16971 -4.39 -54.66\n",
       "17061 -4.39 -54.94\n",
       "17162 -4.39 -55.12\n",
       "\n",
       "[257 rows x 2 columns]"
      ]
     },
     "execution_count": 2,
     "metadata": {},
     "output_type": "execute_result"
    }
   ],
   "source": [
    "class SatelliteDataset(Dataset):\n",
    "    def __init__(self, path, positions, df):\n",
    "        self.img_dir = path\n",
    "\n",
    "        self.positions = positions.copy()\n",
    "        self.images = df.copy()\n",
    "\n",
    "        self.h5file = h5py.File(path, 'r')\n",
    "\n",
    "    def __len__(self):\n",
    "        return self.positions.shape[0]\n",
    "\n",
    "    def __getitem__(self, idx):\n",
    "        \n",
    "        position = self.positions.iloc[idx]\n",
    "        series = self.images[(self.images[\"lat\"] == position[\"lat\"]) & (self.images[\"lon\"] == position[\"lon\"])]\n",
    "\n",
    "        filename = series.sample(1)[\"filename\"].values[0]\n",
    "        img = self.h5file[filename][:]\n",
    "\n",
    "        return torch.tensor(img)\n",
    "    \n",
    "    def __del__(self):\n",
    "        self.h5file.close()\n",
    "        \n",
    "\n",
    "positions = df[[\"lat\", \"lon\"]].drop_duplicates()\n",
    "positions.sort_index(inplace=True)\n",
    "\n",
    "# Results depend on validation set, so we fix the seed\n",
    "train_positions = positions.sample(frac=0.8, random_state=0)\n",
    "val_positions   = positions.drop(train_positions.index)\n",
    "\n",
    "train_ds = SatelliteDataset(path, train_positions, df)\n",
    "train_dl = DataLoader(train_ds, batch_size=16, shuffle=True)\n",
    "\n",
    "val_ds = SatelliteDataset(path, val_positions, df)\n",
    "val_dl = DataLoader(val_ds, batch_size=len(val_ds) * 4, shuffle=True)\n",
    "\n",
    "test_dl = DataLoader(train_ds, batch_size=len(val_ds), shuffle=True)\n",
    "\n",
    "val_ds.positions # 206, 393, ..., 17061, 17162"
   ]
  },
  {
   "cell_type": "code",
   "execution_count": 3,
   "metadata": {},
   "outputs": [],
   "source": [
    "#https://www.mdpi.com/2079-9292/11/1/130\n",
    "class Network(nn.Module):\n",
    "    def __init__(self):\n",
    "        super().__init__()\n",
    "\n",
    "        self.enc = nn.Sequential(\n",
    "            ConvolutionBlock(8, 16),\n",
    "            ASPP(16, 16),\n",
    "        )\n",
    "\n",
    "        self.unet = Unet(16 * 3, 16)\n",
    "\n",
    "        self.conv = nn.Sequential(\n",
    "            nn.Conv2d(16, 1, kernel_size=1),\n",
    "            nn.BatchNorm2d(1),\n",
    "            #nn.Sigmoid() # Sigmoid is included in the loss\n",
    "        )\n",
    "\n",
    "    def forward(self, x):\n",
    "\n",
    "        # x shape is (batch, 24, 64, 64)\n",
    "\n",
    "        # Divide the second channel in x0, x1 and x2\n",
    "        x0, x1, x2 = torch.split(x, 8, dim=1)\n",
    "        x0 = self.enc(x0)\n",
    "        x1 = self.enc(x1)\n",
    "        x2 = self.enc(x2)\n",
    "\n",
    "        # Concatenate the three channels\n",
    "        x = torch.cat([x0, x1, x2], dim=1)\n",
    "\n",
    "        x = self.unet(x)\n",
    "        x = self.conv(x)\n",
    "\n",
    "        if not self.training:\n",
    "            x *= 1000000\n",
    "\n",
    "        return x\n",
    "\n",
    "model = Network().to(device)"
   ]
  },
  {
   "cell_type": "code",
   "execution_count": 4,
   "metadata": {},
   "outputs": [],
   "source": [
    "@torch.no_grad()\n",
    "def plot_images():\n",
    "    data = next(iter(val_dl)).to(device)\n",
    "    data = torch.stack([val_transform(d) for d in data])\n",
    "    im, lb = data[:, :-1], data[:, [-1]]\n",
    "\n",
    "    out = torch.sigmoid(model(im))\n",
    "\n",
    "    im0 = (im[0][3:6] * IS[3:6, None, None]) + IM[3:6, None, None]\n",
    "    im0 = im0.permute(1, 2, 0).clip(0,1).cpu().numpy()\n",
    "\n",
    "    im1 = (im[0][11:14] * IS[11:14, None, None]) + IM[11:14, None, None]\n",
    "    im1 = im1.permute(1, 2, 0).clip(0,1).cpu().numpy()\n",
    "\n",
    "    im2 = (im[0][19:22] * IS[19:22, None, None]) + IM[19:22, None, None]\n",
    "    im2 = im2.permute(1, 2, 0).clip(0,1).cpu().numpy()\n",
    "\n",
    "    label = lb[0][0].cpu().numpy()\n",
    "    output = out[0][0].detach().cpu().numpy()\n",
    "\n",
    "    fig, axes = plt.subplots(1, 5, figsize=(15, 10))\n",
    "    axes[0].imshow(im0)\n",
    "    axes[1].imshow(im1)\n",
    "    axes[2].imshow(im2)\n",
    "    axes[3].imshow(label, vmin=0, vmax=1)\n",
    "    axes[4].imshow(output, vmin=0, vmax=1)\n",
    "    plt.show()"
   ]
  },
  {
   "cell_type": "code",
   "execution_count": 5,
   "metadata": {},
   "outputs": [],
   "source": [
    "@torch.no_grad()\n",
    "def f1_score(dl):\n",
    "    data = next(iter(val_dl)).to(device)\n",
    "    data = torch.stack([val_transform(d) for d in data])\n",
    "    im, lb = data[:, :-1], data[:, [-1]]\n",
    "\n",
    "    output = torch.sigmoid(model(im))\n",
    "\n",
    "    tp = torch.sum(output * lb)\n",
    "    fp = torch.sum(output * (1-lb))\n",
    "    fn = torch.sum((1-output) * lb)\n",
    "\n",
    "    precision = tp / (tp + fp)\n",
    "    recall = tp / (tp + fn)\n",
    "\n",
    "    f1 = 2 * (precision * recall) / (precision + recall)\n",
    "\n",
    "    return float(f1)"
   ]
  },
  {
   "cell_type": "code",
   "execution_count": 6,
   "metadata": {},
   "outputs": [],
   "source": [
    "ssim_factor = 2\n",
    "bce_loss = nn.BCEWithLogitsLoss()\n",
    "loss_fn = lambda output, target: bce_loss(output, target) + ssim_factor * ssim_loss(torch.sigmoid(output), target)\n",
    "\n",
    "lr = 1e-4\n",
    "optimizer = torch.optim.AdamW(model.parameters(), lr=lr)\n",
    "\n",
    "epochs = 300\n",
    "patience = 100\n",
    "\n",
    "best_f1 = -torch.inf\n",
    "best_model = model.state_dict()"
   ]
  },
  {
   "cell_type": "code",
   "execution_count": 7,
   "metadata": {},
   "outputs": [
    {
     "name": "stderr",
     "output_type": "stream",
     "text": [
      "Failed to detect the name of this notebook, you can set it manually with the WANDB_NOTEBOOK_NAME environment variable to enable code saving.\n",
      "\u001b[34m\u001b[1mwandb\u001b[0m: Currently logged in as: \u001b[33mdanilolc\u001b[0m (\u001b[33mdnlmcrd\u001b[0m). Use \u001b[1m`wandb login --relogin`\u001b[0m to force relogin\n"
     ]
    },
    {
     "data": {
      "text/html": [
       "Tracking run with wandb version 0.17.1"
      ],
      "text/plain": [
       "<IPython.core.display.HTML object>"
      ]
     },
     "metadata": {},
     "output_type": "display_data"
    },
    {
     "data": {
      "text/html": [
       "Run data is saved locally in <code>/home/emap/Dados/danilo/Deforestation/wandb/run-20240616_174907-tdk371pc</code>"
      ],
      "text/plain": [
       "<IPython.core.display.HTML object>"
      ]
     },
     "metadata": {},
     "output_type": "display_data"
    },
    {
     "data": {
      "text/html": [
       "Syncing run <strong><a href='https://wandb.ai/dnlmcrd/Trees/runs/tdk371pc' target=\"_blank\">smooth-bird-34</a></strong> to <a href='https://wandb.ai/dnlmcrd/Trees' target=\"_blank\">Weights & Biases</a> (<a href='https://wandb.me/run' target=\"_blank\">docs</a>)<br/>"
      ],
      "text/plain": [
       "<IPython.core.display.HTML object>"
      ]
     },
     "metadata": {},
     "output_type": "display_data"
    },
    {
     "data": {
      "text/html": [
       " View project at <a href='https://wandb.ai/dnlmcrd/Trees' target=\"_blank\">https://wandb.ai/dnlmcrd/Trees</a>"
      ],
      "text/plain": [
       "<IPython.core.display.HTML object>"
      ]
     },
     "metadata": {},
     "output_type": "display_data"
    },
    {
     "data": {
      "text/html": [
       " View run at <a href='https://wandb.ai/dnlmcrd/Trees/runs/tdk371pc' target=\"_blank\">https://wandb.ai/dnlmcrd/Trees/runs/tdk371pc</a>"
      ],
      "text/plain": [
       "<IPython.core.display.HTML object>"
      ]
     },
     "metadata": {},
     "output_type": "display_data"
    },
    {
     "data": {
      "text/html": [
       "<button onClick=\"this.nextSibling.style.display='block';this.style.display='none';\">Display W&B run</button><iframe src='https://wandb.ai/dnlmcrd/Trees/runs/tdk371pc?jupyter=true' style='border:none;width:100%;height:420px;display:none;'></iframe>"
      ],
      "text/plain": [
       "<wandb.sdk.wandb_run.Run at 0x7df143e7a840>"
      ]
     },
     "execution_count": 7,
     "metadata": {},
     "output_type": "execute_result"
    }
   ],
   "source": [
    "wandb.init(\n",
    "    project=\"Trees\",\n",
    "\n",
    "    config={\n",
    "    \"learning rate\": lr,\n",
    "    \"epochs\": epochs,\n",
    "    \"ssim factor\": ssim_factor,\n",
    "    }\n",
    ")"
   ]
  },
  {
   "cell_type": "code",
   "execution_count": 8,
   "metadata": {},
   "outputs": [
    {
     "name": "stderr",
     "output_type": "stream",
     "text": [
      "  0%|          | 0/300 [00:00<?, ?it/s]"
     ]
    }
   ],
   "source": [
    "for i in tqdm(range(epochs)):\n",
    "\n",
    "    # Train\n",
    "    model.train()\n",
    "    for data in train_dl:\n",
    "        optimizer.zero_grad()\n",
    "\n",
    "        data = data.to(device)\n",
    "        data = torch.stack([train_transform(d) for d in data])\n",
    "        im, lb = data[:, :-1], data[:, [-1]]\n",
    "\n",
    "        out = model(im)\n",
    "        loss = loss_fn(out, lb).mean()\n",
    "        \n",
    "        loss.backward()\n",
    "        optimizer.step()\n",
    "    \n",
    "    # Eval\n",
    "    with torch.no_grad():\n",
    "        model.eval()\n",
    "\n",
    "        f1_val = f1_score(val_dl)\n",
    "        f1_train = f1_score(test_dl)\n",
    "        wandb.log({\"f1_train\": f1_train, \"f1_val\": f1_val})\n",
    "\n",
    "        if best_f1 < f1_val:\n",
    "            best_f1 = f1_val\n",
    "            best_model = model.state_dict()\n",
    "            pat_count = 0\n",
    "\n",
    "        pat_count = pat_count + 1\n",
    "        if pat_count == patience:\n",
    "            model.load_state_dict(best_model)\n",
    "            break"
   ]
  },
  {
   "cell_type": "code",
   "execution_count": null,
   "metadata": {},
   "outputs": [],
   "source": [
    "wandb.finish()\n",
    "print(best_f1)"
   ]
  },
  {
   "cell_type": "code",
   "execution_count": null,
   "metadata": {},
   "outputs": [],
   "source": [
    "plot_images()"
   ]
  }
 ],
 "metadata": {
  "kernelspec": {
   "display_name": "base",
   "language": "python",
   "name": "python3"
  },
  "language_info": {
   "codemirror_mode": {
    "name": "ipython",
    "version": 3
   },
   "file_extension": ".py",
   "mimetype": "text/x-python",
   "name": "python",
   "nbconvert_exporter": "python",
   "pygments_lexer": "ipython3",
   "version": "3.12.1"
  }
 },
 "nbformat": 4,
 "nbformat_minor": 2
}
