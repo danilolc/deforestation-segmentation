{
 "cells": [
  {
   "cell_type": "code",
   "execution_count": 1,
   "metadata": {},
   "outputs": [
    {
     "data": {
      "text/html": [
       "<div>\n",
       "<style scoped>\n",
       "    .dataframe tbody tr th:only-of-type {\n",
       "        vertical-align: middle;\n",
       "    }\n",
       "\n",
       "    .dataframe tbody tr th {\n",
       "        vertical-align: top;\n",
       "    }\n",
       "\n",
       "    .dataframe thead th {\n",
       "        text-align: right;\n",
       "    }\n",
       "</style>\n",
       "<table border=\"1\" class=\"dataframe\">\n",
       "  <thead>\n",
       "    <tr style=\"text-align: right;\">\n",
       "      <th></th>\n",
       "      <th>lat</th>\n",
       "      <th>lon</th>\n",
       "      <th>year</th>\n",
       "      <th>month</th>\n",
       "      <th>day</th>\n",
       "      <th>mean</th>\n",
       "      <th>filename</th>\n",
       "    </tr>\n",
       "  </thead>\n",
       "  <tbody>\n",
       "    <tr>\n",
       "      <th>5</th>\n",
       "      <td>-3.95</td>\n",
       "      <td>-54.78</td>\n",
       "      <td>2021</td>\n",
       "      <td>5</td>\n",
       "      <td>1</td>\n",
       "      <td>0.94</td>\n",
       "      <td>Labeled_-3.95_-54.78_2021_05_01_0.94.npy</td>\n",
       "    </tr>\n",
       "    <tr>\n",
       "      <th>7</th>\n",
       "      <td>-4.03</td>\n",
       "      <td>-54.72</td>\n",
       "      <td>2020</td>\n",
       "      <td>8</td>\n",
       "      <td>1</td>\n",
       "      <td>0.46</td>\n",
       "      <td>Labeled_-4.03_-54.72_2020_08_01_0.46.npy</td>\n",
       "    </tr>\n",
       "    <tr>\n",
       "      <th>9</th>\n",
       "      <td>-3.47</td>\n",
       "      <td>-54.78</td>\n",
       "      <td>2018</td>\n",
       "      <td>6</td>\n",
       "      <td>1</td>\n",
       "      <td>0.58</td>\n",
       "      <td>Labeled_-3.47_-54.78_2018_06_01_0.58.npy</td>\n",
       "    </tr>\n",
       "    <tr>\n",
       "      <th>11</th>\n",
       "      <td>-4.19</td>\n",
       "      <td>-54.98</td>\n",
       "      <td>2020</td>\n",
       "      <td>8</td>\n",
       "      <td>1</td>\n",
       "      <td>0.74</td>\n",
       "      <td>Labeled_-4.19_-54.98_2020_08_01_0.74.npy</td>\n",
       "    </tr>\n",
       "    <tr>\n",
       "      <th>13</th>\n",
       "      <td>-3.77</td>\n",
       "      <td>-54.76</td>\n",
       "      <td>2019</td>\n",
       "      <td>8</td>\n",
       "      <td>1</td>\n",
       "      <td>0.32</td>\n",
       "      <td>Labeled_-3.77_-54.76_2019_08_01_0.32.npy</td>\n",
       "    </tr>\n",
       "  </tbody>\n",
       "</table>\n",
       "</div>"
      ],
      "text/plain": [
       "     lat    lon  year  month  day  mean  \\\n",
       "5  -3.95 -54.78  2021      5    1  0.94   \n",
       "7  -4.03 -54.72  2020      8    1  0.46   \n",
       "9  -3.47 -54.78  2018      6    1  0.58   \n",
       "11 -4.19 -54.98  2020      8    1  0.74   \n",
       "13 -3.77 -54.76  2019      8    1  0.32   \n",
       "\n",
       "                                    filename  \n",
       "5   Labeled_-3.95_-54.78_2021_05_01_0.94.npy  \n",
       "7   Labeled_-4.03_-54.72_2020_08_01_0.46.npy  \n",
       "9   Labeled_-3.47_-54.78_2018_06_01_0.58.npy  \n",
       "11  Labeled_-4.19_-54.98_2020_08_01_0.74.npy  \n",
       "13  Labeled_-3.77_-54.76_2019_08_01_0.32.npy  "
      ]
     },
     "execution_count": 1,
     "metadata": {},
     "output_type": "execute_result"
    }
   ],
   "source": [
    "import pandas as pd\n",
    "import numpy as np\n",
    "import wandb\n",
    "\n",
    "import torch\n",
    "from torch.utils.data import Dataset, DataLoader\n",
    "from torchvision import transforms\n",
    "import matplotlib.pyplot as plt\n",
    "\n",
    "import torch.nn as nn\n",
    "\n",
    "from tqdm import tqdm\n",
    "\n",
    "from Data import load_df, ChannelJitter, RandomNoise\n",
    "from Network import Unet, ssim_loss, ConvolutionBlock, ASPP\n",
    "\n",
    "path = \"datasets/\" + \"with_labels/\"\n",
    "device = \"cuda\"\n",
    "\n",
    "IM = torch.tensor([ 0.0,  0.0,  0.1,  0.0,  0.3,  0.1,  0.0,  0.5,\n",
    "                    0.0,  0.0,  0.1,  0.0,  0.3,  0.1,  0.0,  0.5,\n",
    "                    0.0,  0.0,  0.1,  0.0,  0.3,  0.1,  0.0,  0.5, 0.0]).to(device)\n",
    "\n",
    "IS = torch.tensor([0.2, 0.2, 0.2, 0.2, 0.1, 0.1, 0.1, 0.5,\n",
    "                   0.2, 0.2, 0.2, 0.2, 0.1, 0.1, 0.1, 0.5,\n",
    "                   0.2, 0.2, 0.2, 0.2, 0.1, 0.1, 0.1, 0.5, 1.0]).to(device)\n",
    "\n",
    "df = load_df(path)\n",
    "df_z = df[df[\"mean\"] < 0.2].sample(frac=0.1, random_state=0)\n",
    "df = pd.concat([df[df[\"mean\"] >= 0.2], df_z])\n",
    "\n",
    "df.head()"
   ]
  },
  {
   "cell_type": "code",
   "execution_count": 2,
   "metadata": {},
   "outputs": [
    {
     "data": {
      "text/html": [
       "<div>\n",
       "<style scoped>\n",
       "    .dataframe tbody tr th:only-of-type {\n",
       "        vertical-align: middle;\n",
       "    }\n",
       "\n",
       "    .dataframe tbody tr th {\n",
       "        vertical-align: top;\n",
       "    }\n",
       "\n",
       "    .dataframe thead th {\n",
       "        text-align: right;\n",
       "    }\n",
       "</style>\n",
       "<table border=\"1\" class=\"dataframe\">\n",
       "  <thead>\n",
       "    <tr style=\"text-align: right;\">\n",
       "      <th></th>\n",
       "      <th>lat</th>\n",
       "      <th>lon</th>\n",
       "    </tr>\n",
       "  </thead>\n",
       "  <tbody>\n",
       "    <tr>\n",
       "      <th>31</th>\n",
       "      <td>-3.43</td>\n",
       "      <td>-54.90</td>\n",
       "    </tr>\n",
       "    <tr>\n",
       "      <th>62</th>\n",
       "      <td>-3.43</td>\n",
       "      <td>-55.12</td>\n",
       "    </tr>\n",
       "    <tr>\n",
       "      <th>65</th>\n",
       "      <td>-4.05</td>\n",
       "      <td>-54.92</td>\n",
       "    </tr>\n",
       "    <tr>\n",
       "      <th>68</th>\n",
       "      <td>-4.07</td>\n",
       "      <td>-55.04</td>\n",
       "    </tr>\n",
       "    <tr>\n",
       "      <th>73</th>\n",
       "      <td>-3.59</td>\n",
       "      <td>-54.50</td>\n",
       "    </tr>\n",
       "    <tr>\n",
       "      <th>...</th>\n",
       "      <td>...</td>\n",
       "      <td>...</td>\n",
       "    </tr>\n",
       "    <tr>\n",
       "      <th>16290</th>\n",
       "      <td>-4.19</td>\n",
       "      <td>-54.50</td>\n",
       "    </tr>\n",
       "    <tr>\n",
       "      <th>16653</th>\n",
       "      <td>-3.89</td>\n",
       "      <td>-55.02</td>\n",
       "    </tr>\n",
       "    <tr>\n",
       "      <th>16738</th>\n",
       "      <td>-3.37</td>\n",
       "      <td>-54.94</td>\n",
       "    </tr>\n",
       "    <tr>\n",
       "      <th>16902</th>\n",
       "      <td>-3.41</td>\n",
       "      <td>-55.10</td>\n",
       "    </tr>\n",
       "    <tr>\n",
       "      <th>17153</th>\n",
       "      <td>-3.77</td>\n",
       "      <td>-55.04</td>\n",
       "    </tr>\n",
       "  </tbody>\n",
       "</table>\n",
       "<p>260 rows × 2 columns</p>\n",
       "</div>"
      ],
      "text/plain": [
       "        lat    lon\n",
       "31    -3.43 -54.90\n",
       "62    -3.43 -55.12\n",
       "65    -4.05 -54.92\n",
       "68    -4.07 -55.04\n",
       "73    -3.59 -54.50\n",
       "...     ...    ...\n",
       "16290 -4.19 -54.50\n",
       "16653 -3.89 -55.02\n",
       "16738 -3.37 -54.94\n",
       "16902 -3.41 -55.10\n",
       "17153 -3.77 -55.04\n",
       "\n",
       "[260 rows x 2 columns]"
      ]
     },
     "execution_count": 2,
     "metadata": {},
     "output_type": "execute_result"
    }
   ],
   "source": [
    "class SatelliteDataset(Dataset):\n",
    "    def __init__(self, path, positions, df, validaion=False):\n",
    "        self.img_dir = path\n",
    "\n",
    "        self.positions = positions.copy()\n",
    "        self.images = df.copy()\n",
    "\n",
    "        if validaion:\n",
    "            self.transform = transforms.Compose([\n",
    "                transforms.ToTensor(),\n",
    "                #transforms.CenterCrop((64, 64)),\n",
    "                transforms.RandomCrop((64, 64)),\n",
    "                transforms.Normalize(IM, IS),\n",
    "            ])\n",
    "        else:\n",
    "            self.transform = transforms.Compose([\n",
    "                transforms.ToTensor(),\n",
    "                \n",
    "                transforms.RandomApply([transforms.RandomRotation(360, interpolation=transforms.InterpolationMode.BILINEAR)], p=0.5),\n",
    "                \n",
    "                transforms.RandomCrop((64, 64)),\n",
    "                transforms.Normalize(IM, IS),\n",
    "                \n",
    "                transforms.RandomApply([ChannelJitter(0.2, 0.2)], p=0.2),\n",
    "                transforms.RandomApply([RandomNoise(0.2)], p=0.2),\n",
    "            ])\n",
    "\n",
    "    def __len__(self):\n",
    "        return self.positions.shape[0]\n",
    "\n",
    "    def __getitem__(self, idx):\n",
    "        \n",
    "        position = self.positions.iloc[idx]\n",
    "        series = self.images[(self.images[\"lat\"] == position[\"lat\"]) & (self.images[\"lon\"] == position[\"lon\"])]\n",
    "\n",
    "        filename = series.sample(1)[\"filename\"].values[0]\n",
    "\n",
    "        img = np.load(self.img_dir + filename)\n",
    "        img = self.transform(img)\n",
    "\n",
    "        return img[:-1, :, :], img[-1, :, :]\n",
    "\n",
    "positions = df[[\"lat\", \"lon\"]].drop_duplicates()\n",
    "positions.sort_index(inplace=True)\n",
    "\n",
    "# Results depend on validation set, so we fix the seed\n",
    "train_positions = positions.sample(frac=0.8, random_state=0)\n",
    "val_positions   = positions.drop(train_positions.index)\n",
    "\n",
    "train_ds = SatelliteDataset(path, train_positions, df)\n",
    "train_dl = DataLoader(train_ds, batch_size=16, shuffle=True)\n",
    "\n",
    "val_ds = SatelliteDataset(path, val_positions, df, validaion=True)\n",
    "val_dl = DataLoader(val_ds, batch_size=len(val_ds) * 4, shuffle=True)\n",
    "\n",
    "test_dl = DataLoader(train_ds, batch_size=len(val_ds), shuffle=True)\n",
    "\n",
    "len(train_ds), len(val_ds)\n",
    "\n",
    "val_ds.positions # 31, 62, 65, ..., 16738, 16902, 17153"
   ]
  },
  {
   "cell_type": "code",
   "execution_count": 3,
   "metadata": {},
   "outputs": [
    {
     "name": "stdout",
     "output_type": "stream",
     "text": [
      "tensor([-0.1497, -0.1266, -0.4931, -0.0725, -0.2196,  0.1070,  0.1522,  0.5130,\n",
      "        -0.1596, -0.1367, -0.5057, -0.0814, -0.2544,  0.0581,  0.1179,  0.5067,\n",
      "        -0.2140, -0.1984, -0.5790, -0.1545, -0.3455, -0.0431,  0.0134,  0.6781])\n",
      "tensor([0.5497, 0.5616, 0.5526, 0.5825, 1.0985, 1.0132, 0.8613, 0.8584, 0.5358,\n",
      "        0.5469, 0.5400, 0.5628, 1.0921, 0.9560, 0.8140, 0.8621, 0.3862, 0.3974,\n",
      "        0.4004, 0.4166, 0.9069, 0.8020, 0.6687, 0.7350])\n"
     ]
    }
   ],
   "source": [
    "im, lb = next(iter(val_dl))\n",
    "print(im.mean(dim=[0,2,3]))\n",
    "print(im.std(dim=[0,2,3]))"
   ]
  },
  {
   "cell_type": "code",
   "execution_count": 4,
   "metadata": {},
   "outputs": [],
   "source": [
    "#https://www.mdpi.com/2079-9292/11/1/130\n",
    "class Network(nn.Module):\n",
    "    def __init__(self):\n",
    "        super().__init__()\n",
    "\n",
    "        self.enc = nn.Sequential(\n",
    "            ConvolutionBlock(8, 16),\n",
    "            ASPP(16, 16),\n",
    "        )\n",
    "\n",
    "        self.unet = Unet(16 * 3, 16)\n",
    "\n",
    "        self.conv = nn.Sequential(\n",
    "            nn.Conv2d(16, 1, kernel_size=1),\n",
    "            nn.BatchNorm2d(1),\n",
    "            #nn.Sigmoid() # Sigmoid is included in the loss\n",
    "        )\n",
    "\n",
    "    def forward(self, x):\n",
    "\n",
    "        # x shape is (batch, 24, 64, 64)\n",
    "\n",
    "        # Divide the second channel in x0, x1 and x2\n",
    "        x0, x1, x2 = torch.split(x, 8, dim=1)\n",
    "        x0 = self.enc(x0)\n",
    "        x1 = self.enc(x1)\n",
    "        x2 = self.enc(x2)\n",
    "\n",
    "        # Concatenate the three channels\n",
    "        x = torch.cat([x0, x1, x2], dim=1)\n",
    "\n",
    "        x = self.unet(x)\n",
    "        x = self.conv(x)\n",
    "\n",
    "        if not self.training:\n",
    "            x *= 1000000\n",
    "\n",
    "        return x\n",
    "\n",
    "model = Network().to(device)"
   ]
  },
  {
   "cell_type": "code",
   "execution_count": 5,
   "metadata": {},
   "outputs": [],
   "source": [
    "@torch.no_grad()\n",
    "def plot_images():\n",
    "    im, lb = next(iter(val_dl))\n",
    "    im, lb = im.to(device), lb.to(device)\n",
    "\n",
    "    lb = lb[:, None, ...]\n",
    "    out = torch.sigmoid(model(im))\n",
    "\n",
    "    im0 = (im[0][3:6] * IS[3:6, None, None]) + IM[3:6, None, None]\n",
    "    im0 = im0.permute(1, 2, 0).clip(0,1).cpu().numpy()\n",
    "\n",
    "    im1 = (im[0][11:14] * IS[11:14, None, None]) + IM[11:14, None, None]\n",
    "    im1 = im1.permute(1, 2, 0).clip(0,1).cpu().numpy()\n",
    "\n",
    "    im2 = (im[0][19:22] * IS[19:22, None, None]) + IM[19:22, None, None]\n",
    "    im2 = im2.permute(1, 2, 0).clip(0,1).cpu().numpy()\n",
    "\n",
    "    label = lb[0][0].cpu().numpy()\n",
    "    output = out[0][0].detach().cpu().numpy()\n",
    "\n",
    "    fig, axes = plt.subplots(1, 5, figsize=(15, 10))\n",
    "    axes[0].imshow(im0)\n",
    "    axes[1].imshow(im1)\n",
    "    axes[2].imshow(im2)\n",
    "    axes[3].imshow(label, vmin=0, vmax=1)\n",
    "    axes[4].imshow(output, vmin=0, vmax=1)\n",
    "    plt.show()"
   ]
  },
  {
   "cell_type": "code",
   "execution_count": 6,
   "metadata": {},
   "outputs": [],
   "source": [
    "@torch.no_grad()\n",
    "def f1_score(dl):\n",
    "    im, lb = next(iter(dl))\n",
    "    im, lb = im.to(device), lb.to(device)\n",
    "\n",
    "    label = lb[:, None, ...]\n",
    "    output = torch.sigmoid(model(im))\n",
    "\n",
    "    tp = torch.sum(output * label)\n",
    "    fp = torch.sum(output * (1-label))\n",
    "    fn = torch.sum((1-output) * label)\n",
    "\n",
    "    precision = tp / (tp + fp)\n",
    "    recall = tp / (tp + fn)\n",
    "\n",
    "    f1 = 2 * (precision * recall) / (precision + recall)\n",
    "    \n",
    "    union = tp + fp + fn\n",
    "    iou = tp / union # recall / (recall + 1) ?\n",
    "\n",
    "    return float(f1), float(iou)"
   ]
  },
  {
   "cell_type": "code",
   "execution_count": 7,
   "metadata": {},
   "outputs": [],
   "source": [
    "ssim_factor = 2\n",
    "bce_loss = nn.BCEWithLogitsLoss()\n",
    "loss_fn = lambda output, target: bce_loss(output, target) + ssim_factor * ssim_loss(torch.sigmoid(output), target)\n",
    "\n",
    "lr = 1e-4\n",
    "optimizer = torch.optim.AdamW(model.parameters(), lr=lr)\n",
    "\n",
    "epochs = 300\n",
    "patience = 100\n",
    "\n",
    "best_f1 = -torch.inf\n",
    "best_model = model.state_dict()"
   ]
  },
  {
   "cell_type": "code",
   "execution_count": 8,
   "metadata": {},
   "outputs": [
    {
     "name": "stderr",
     "output_type": "stream",
     "text": [
      "Failed to detect the name of this notebook, you can set it manually with the WANDB_NOTEBOOK_NAME environment variable to enable code saving.\n"
     ]
    },
    {
     "name": "stderr",
     "output_type": "stream",
     "text": [
      "\u001b[34m\u001b[1mwandb\u001b[0m: Currently logged in as: \u001b[33mdanilolc\u001b[0m (\u001b[33mdnlmcrd\u001b[0m). Use \u001b[1m`wandb login --relogin`\u001b[0m to force relogin\n"
     ]
    },
    {
     "data": {
      "text/html": [
       "Tracking run with wandb version 0.17.1"
      ],
      "text/plain": [
       "<IPython.core.display.HTML object>"
      ]
     },
     "metadata": {},
     "output_type": "display_data"
    },
    {
     "data": {
      "text/html": [
       "Run data is saved locally in <code>/home/emap/Dados/danilo/Deforestation/wandb/run-20240615_210049-1iw0vizn</code>"
      ],
      "text/plain": [
       "<IPython.core.display.HTML object>"
      ]
     },
     "metadata": {},
     "output_type": "display_data"
    },
    {
     "data": {
      "text/html": [
       "Syncing run <strong><a href='https://wandb.ai/dnlmcrd/Trees/runs/1iw0vizn' target=\"_blank\">curious-sky-15</a></strong> to <a href='https://wandb.ai/dnlmcrd/Trees' target=\"_blank\">Weights & Biases</a> (<a href='https://wandb.me/run' target=\"_blank\">docs</a>)<br/>"
      ],
      "text/plain": [
       "<IPython.core.display.HTML object>"
      ]
     },
     "metadata": {},
     "output_type": "display_data"
    },
    {
     "data": {
      "text/html": [
       " View project at <a href='https://wandb.ai/dnlmcrd/Trees' target=\"_blank\">https://wandb.ai/dnlmcrd/Trees</a>"
      ],
      "text/plain": [
       "<IPython.core.display.HTML object>"
      ]
     },
     "metadata": {},
     "output_type": "display_data"
    },
    {
     "data": {
      "text/html": [
       " View run at <a href='https://wandb.ai/dnlmcrd/Trees/runs/1iw0vizn' target=\"_blank\">https://wandb.ai/dnlmcrd/Trees/runs/1iw0vizn</a>"
      ],
      "text/plain": [
       "<IPython.core.display.HTML object>"
      ]
     },
     "metadata": {},
     "output_type": "display_data"
    },
    {
     "data": {
      "text/html": [
       "<button onClick=\"this.nextSibling.style.display='block';this.style.display='none';\">Display W&B run</button><iframe src='https://wandb.ai/dnlmcrd/Trees/runs/1iw0vizn?jupyter=true' style='border:none;width:100%;height:420px;display:none;'></iframe>"
      ],
      "text/plain": [
       "<wandb.sdk.wandb_run.Run at 0x737a1db87260>"
      ]
     },
     "execution_count": 8,
     "metadata": {},
     "output_type": "execute_result"
    }
   ],
   "source": [
    "wandb.init(\n",
    "    project=\"Trees\",\n",
    "\n",
    "    config={\n",
    "    \"learning rate\": lr,\n",
    "    \"epochs\": epochs,\n",
    "    \"ssim factor\": ssim_factor,\n",
    "    }\n",
    ")"
   ]
  },
  {
   "cell_type": "code",
   "execution_count": 10,
   "metadata": {},
   "outputs": [
    {
     "name": "stderr",
     "output_type": "stream",
     "text": [
      " 92%|█████████▏| 275/300 [14:26<01:18,  3.15s/it]\n"
     ]
    }
   ],
   "source": [
    "for i in tqdm(range(epochs)):\n",
    "\n",
    "    # Train\n",
    "    model.train()\n",
    "    for data in train_dl:\n",
    "        optimizer.zero_grad()\n",
    "\n",
    "        im, lb = data\n",
    "        im, lb = im.to(device), lb.to(device)\n",
    "        lb = lb[:, None, ...]\n",
    "        \n",
    "        out = model(im)\n",
    "        loss = loss_fn(out, lb).mean()\n",
    "        \n",
    "        loss.backward()\n",
    "        optimizer.step()\n",
    "    \n",
    "    # Eval\n",
    "    with torch.no_grad():\n",
    "        model.eval()\n",
    "\n",
    "        f1_val, iou_val = f1_score(val_dl)\n",
    "        f1_train, iou_train = f1_score(test_dl)\n",
    "        wandb.log({\"f1_train\": f1_train, \"f1_val\": f1_val})\n",
    "\n",
    "        if best_f1 < f1_val:\n",
    "            best_f1 = f1_val\n",
    "            best_model = model.state_dict()\n",
    "            pat_count = 0\n",
    "\n",
    "        pat_count = pat_count + 1\n",
    "        if pat_count == patience:\n",
    "            model.load_state_dict(best_model)\n",
    "            break"
   ]
  },
  {
   "cell_type": "code",
   "execution_count": 11,
   "metadata": {},
   "outputs": [
    {
     "data": {
      "text/html": [
       "<style>\n",
       "    table.wandb td:nth-child(1) { padding: 0 10px; text-align: left ; width: auto;} td:nth-child(2) {text-align: left ; width: 100%}\n",
       "    .wandb-row { display: flex; flex-direction: row; flex-wrap: wrap; justify-content: flex-start; width: 100% }\n",
       "    .wandb-col { display: flex; flex-direction: column; flex-basis: 100%; flex: 1; padding: 10px; }\n",
       "    </style>\n",
       "<div class=\"wandb-row\"><div class=\"wandb-col\"><h3>Run history:</h3><br/><table class=\"wandb\"><tr><td>f1_train</td><td>▁▂▅▄▂▅▆▆▇▇▄▆▆▇▇▇▆▆▆█▇▇▇▆█▇▆█▇█▇▆▇█▇█▇█▆▇</td></tr><tr><td>f1_val</td><td>▁▂▅▆▂▅▇▇▆▆▆▆▆▆▆▇▇▇▇█▇█▇█▇█▇█████▇▇▇▇█▇▇█</td></tr></table><br/></div><div class=\"wandb-col\"><h3>Run summary:</h3><br/><table class=\"wandb\"><tr><td>f1_train</td><td>0.85667</td></tr><tr><td>f1_val</td><td>0.86694</td></tr></table><br/></div></div>"
      ],
      "text/plain": [
       "<IPython.core.display.HTML object>"
      ]
     },
     "metadata": {},
     "output_type": "display_data"
    },
    {
     "data": {
      "text/html": [
       " View run <strong style=\"color:#cdcd00\">curious-sky-15</strong> at: <a href='https://wandb.ai/dnlmcrd/Trees/runs/1iw0vizn' target=\"_blank\">https://wandb.ai/dnlmcrd/Trees/runs/1iw0vizn</a><br/> View project at: <a href='https://wandb.ai/dnlmcrd/Trees' target=\"_blank\">https://wandb.ai/dnlmcrd/Trees</a><br/>Synced 6 W&B file(s), 0 media file(s), 0 artifact file(s) and 0 other file(s)"
      ],
      "text/plain": [
       "<IPython.core.display.HTML object>"
      ]
     },
     "metadata": {},
     "output_type": "display_data"
    },
    {
     "data": {
      "text/html": [
       "Find logs at: <code>./wandb/run-20240615_210049-1iw0vizn/logs</code>"
      ],
      "text/plain": [
       "<IPython.core.display.HTML object>"
      ]
     },
     "metadata": {},
     "output_type": "display_data"
    },
    {
     "name": "stdout",
     "output_type": "stream",
     "text": [
      "0.8691420555114746\n"
     ]
    }
   ],
   "source": [
    "wandb.finish()\n",
    "print(best_f1)"
   ]
  },
  {
   "cell_type": "code",
   "execution_count": 12,
   "metadata": {},
   "outputs": [
    {
     "data": {
      "image/png": "[encoded data removed]",
      "text/plain": [
       "<Figure size 1500x1000 with 5 Axes>"
      ]
     },
     "metadata": {},
     "output_type": "display_data"
    }
   ],
   "source": [
    "plot_images()"
   ]
  }
 ],
 "metadata": {
  "kernelspec": {
   "display_name": "base",
   "language": "python",
   "name": "python3"
  },
  "language_info": {
   "codemirror_mode": {
    "name": "ipython",
    "version": 3
   },
   "file_extension": ".py",
   "mimetype": "text/x-python",
   "name": "python",
   "nbconvert_exporter": "python",
   "pygments_lexer": "ipython3",
   "version": "3.12.1"
  }
 },
 "nbformat": 4,
 "nbformat_minor": 2
}
